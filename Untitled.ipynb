{
 "cells": [
  {
   "cell_type": "code",
   "execution_count": 1,
   "metadata": {},
   "outputs": [],
   "source": [
    "import re\n",
    "import time\n",
    "import os\n",
    "from selenium import webdriver\n",
    "import requests\n",
    "from selenium.webdriver.common.keys import Keys\n",
    "import pyperclip\n",
    "import pprint\n",
    "pp = pprint.PrettyPrinter()"
   ]
  },
  {
   "cell_type": "code",
   "execution_count": 7,
   "metadata": {},
   "outputs": [],
   "source": [
    "#Setamos o caminho de nossa aplicação.\n",
    "dir_path = os.getcwd()\n",
    "#Setamos onde está nosso chromedriver.\n",
    "chrome = dir_path+'\\chromedriver.exe'\n",
    "#Configuramos um profile no chrome para não precisar logar no whats toda vez que iniciar o bot.\n",
    "options = webdriver.ChromeOptions()\n",
    "options.add_argument(r\"user-data-dir=\"+dir_path+\"\\profile\\wpp\")\n",
    "#Iniciamos o driver.\n",
    "driver = webdriver.Chrome(chrome, options=options)\n",
    "\n",
    "\n",
    "driver.get('https://web.whatsapp.com/')\n",
    "driver.implicitly_wait(10)\n",
    "\n",
    "caixa_de_pesquisa = driver.find_element_by_class_name('_2zCfw')"
   ]
  },
  {
   "cell_type": "code",
   "execution_count": 40,
   "metadata": {},
   "outputs": [
    {
     "name": "stdout",
     "output_type": "stream",
     "text": [
      "sim!\n",
      "nf\n",
      "nf\n",
      "nf\n"
     ]
    }
   ],
   "source": [
    "contatos = driver.find_elements_by_class_name('_2WP9Q')\n",
    "\n",
    "for i in range(4):\n",
    "    if contatos[i].find_elements_by_xpath(\".//span[@class= 'P6z4j']\") != []:\n",
    "\n",
    "        print('sim!')\n",
    "    else:\n",
    "        print('nf')\n",
    "        \n",
    "        \n",
    "\n",
    "     \n",
    "        \n",
    "#pp.pprint(contatos)"
   ]
  }
 ],
 "metadata": {
  "kernelspec": {
   "display_name": "Python 3",
   "language": "python",
   "name": "python3"
  },
  "language_info": {
   "codemirror_mode": {
    "name": "ipython",
    "version": 3
   },
   "file_extension": ".py",
   "mimetype": "text/x-python",
   "name": "python",
   "nbconvert_exporter": "python",
   "pygments_lexer": "ipython3",
   "version": "3.6.5"
  }
 },
 "nbformat": 4,
 "nbformat_minor": 2
}
